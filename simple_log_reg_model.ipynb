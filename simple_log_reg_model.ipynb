{
 "cells": [
  {
   "cell_type": "code",
   "execution_count": 2,
   "id": "ac693cb2",
   "metadata": {},
   "outputs": [],
   "source": [
    "import pandas as pd\n",
    "import numpy as np\n",
    "from sklearn.model_selection import train_test_split, GridSearchCV\n",
    "from sklearn.preprocessing import StandardScaler, OneHotEncoder\n",
    "from sklearn.linear_model import LogisticRegression\n",
    "from sklearn.metrics import classification_report, accuracy_score"
   ]
  },
  {
   "cell_type": "code",
   "execution_count": 3,
   "id": "fa37d10a",
   "metadata": {},
   "outputs": [],
   "source": [
    "# Step 1: Load and clean data\n",
    "from ucimlrepo import fetch_ucirepo\n",
    "adult = fetch_ucirepo(id=2)\n",
    "df = pd.concat([adult.data.features, adult.data.targets], axis=1)\n",
    "\n",
    "df['income'] = df['income'].str.strip().str.replace('.', '', regex=False)\n",
    "df.replace('?', np.nan, inplace=True)\n",
    "df.dropna(inplace=True)\n",
    "\n",
    "# Step 2: Split features and target\n",
    "selected_features = [\n",
    "    'age', 'capital-gain', 'capital-loss', 'hours-per-week', 'education-num',\n",
    "    'workclass', 'marital-status', 'occupation', 'relationship', 'sex'\n",
    "]\n",
    "X = df[selected_features]\n",
    "y = df['income']"
   ]
  },
  {
   "cell_type": "code",
   "execution_count": 4,
   "id": "6f8cad8f",
   "metadata": {},
   "outputs": [
    {
     "name": "stdout",
     "output_type": "stream",
     "text": [
      "Accuracy: 0.8432283029297954\n",
      "              precision    recall  f1-score   support\n",
      "\n",
      "       <=50K       0.87      0.93      0.90      6803\n",
      "        >50K       0.73      0.59      0.65      2242\n",
      "\n",
      "    accuracy                           0.84      9045\n",
      "   macro avg       0.80      0.76      0.77      9045\n",
      "weighted avg       0.84      0.84      0.84      9045\n",
      "\n"
     ]
    }
   ],
   "source": [
    "# Step 3: Separate numeric and categorical columns\n",
    "num_cols = X.select_dtypes(include=['int64', 'float64']).columns.tolist()\n",
    "cat_cols = X.select_dtypes(include=['object']).columns.tolist()\n",
    "\n",
    "# Step 4: Preprocess numeric columns\n",
    "scaler = StandardScaler()\n",
    "X_num = scaler.fit_transform(X[num_cols])\n",
    "\n",
    "# Step 5: Preprocess categorical columns\n",
    "encoder = OneHotEncoder(drop='first', handle_unknown='ignore', sparse_output=False)\n",
    "X_cat = encoder.fit_transform(X[cat_cols])\n",
    "\n",
    "# Step 6: Combine numeric and categorical data\n",
    "X_processed = np.hstack((X_num, X_cat))\n",
    "\n",
    "# Step 7: Train-test split\n",
    "X_train, X_test, y_train, y_test = train_test_split(X_processed, y, test_size=0.2, stratify=y, random_state=42)\n",
    "\n",
    "# Step 8: Train logistic regression without hyperparameter tuning\n",
    "log_reg = LogisticRegression()\n",
    "log_reg.fit(X_train, y_train)\n",
    "\n",
    "# Step 9: Evaluate\n",
    "y_pred = log_reg.predict(X_test)\n",
    "print(\"Accuracy:\", accuracy_score(y_test, y_pred))\n",
    "print(classification_report(y_test, y_pred))"
   ]
  },
  {
   "cell_type": "code",
   "execution_count": 6,
   "id": "3aa807cd",
   "metadata": {},
   "outputs": [
    {
     "data": {
      "text/plain": [
       "['log_reg_model.pkl']"
      ]
     },
     "execution_count": 6,
     "metadata": {},
     "output_type": "execute_result"
    }
   ],
   "source": [
    "import joblib\n",
    "\n",
    "# Assuming model is already trained\n",
    "joblib.dump(log_reg, 'log_reg_model.pkl')"
   ]
  },
  {
   "cell_type": "code",
   "execution_count": null,
   "id": "ccdbcabb",
   "metadata": {},
   "outputs": [
    {
     "name": "stdout",
     "output_type": "stream",
     "text": [
      "Prediction: <=50K\n"
     ]
    }
   ],
   "source": [
    "pkl_model = joblib.load('log_reg_model.pkl')\n",
    "\n",
    "sample = {\n",
    "    'age': 37,\n",
    "    'capital-gain': 0,\n",
    "    'capital-loss': 0,\n",
    "    'hours-per-week': 40,\n",
    "    'education-num': 13,\n",
    "    'workclass': 'Private',\n",
    "    'marital-status': 'Married-civ-spouse',\n",
    "    'occupation': 'Exec-managerial',\n",
    "    'relationship': 'Husband',\n",
    "    'sex': 'Male'\n",
    "}\n",
    "\n",
    "# Step 1: Convert to DataFrame\n",
    "sample_df = pd.DataFrame([sample])\n",
    "\n",
    "# Step 2: Preprocess\n",
    "# Scale numeric columns\n",
    "sample_num = scaler.transform(sample_df[num_cols])\n",
    "\n",
    "# Encode categorical columns\n",
    "sample_cat = encoder.transform(sample_df[cat_cols])\n",
    "\n",
    "# Step 3: Combine\n",
    "sample_processed = np.hstack((sample_num, sample_cat))\n",
    "\n",
    "# Step 4: Predict\n",
    "prediction = pkl_model.predict(sample_processed)\n",
    "print(\"Prediction:\", prediction[0])"
   ]
  }
 ],
 "metadata": {
  "kernelspec": {
   "display_name": ".venv",
   "language": "python",
   "name": "python3"
  },
  "language_info": {
   "codemirror_mode": {
    "name": "ipython",
    "version": 3
   },
   "file_extension": ".py",
   "mimetype": "text/x-python",
   "name": "python",
   "nbconvert_exporter": "python",
   "pygments_lexer": "ipython3",
   "version": "3.11.4"
  }
 },
 "nbformat": 4,
 "nbformat_minor": 5
}
