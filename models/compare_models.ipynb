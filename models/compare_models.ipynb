{
 "cells": [
  {
   "cell_type": "code",
   "execution_count": null,
   "id": "a173d496",
   "metadata": {},
   "outputs": [],
   "source": [
    "import joblib\n",
    "import pandas as pd\n",
    "from sklearn.metrics import accuracy_score, precision_score, recall_score, f1_score\n",
    "\n",
    "# Step 1: Load raw test data\n",
    "# Replace with however you load your raw test data\n",
    "# X_test_raw = pd.read_csv('your_test_data.csv')\n",
    "\n",
    "# Step 2: Load encoder and scaler\n",
    "encoder = joblib.load('pkl/encoder.pkl')\n",
    "scaler = joblib.load('pkl/scaler.pkl')\n",
    "\n",
    "# Step 3: Apply encoder and scaler\n",
    "# If you used OneHotEncoder, it's likely you applied it only to categorical columns\n",
    "# Adjust based on your original preprocessing\n",
    "\n",
    "# For example:\n",
    "categorical_cols = ['cat1', 'cat2']  # Replace with actual categorical column names\n",
    "numerical_cols = ['num1', 'num2']    # Replace with actual numerical column names\n",
    "\n",
    "X_cat = encoder.transform(X_test_raw[categorical_cols])\n",
    "X_num = scaler.transform(X_test_raw[numerical_cols])\n",
    "\n",
    "# Combine\n",
    "import numpy as np\n",
    "from scipy import sparse\n",
    "\n",
    "# Use sparse.hstack if encoder or scaler output sparse matrices\n",
    "X_test_processed = sparse.hstack([X_num, X_cat]) if sparse.issparse(X_cat) else np.hstack([X_num, X_cat])"
   ]
  },
  {
   "cell_type": "code",
   "execution_count": null,
   "id": "5880067c",
   "metadata": {},
   "outputs": [],
   "source": [
    "# Load models\n",
    "log_reg = joblib.load('pkl/log_reg_model.pkl')\n",
    "rf = joblib.load('pkl/rf_model.pkl')\n",
    "nn = joblib.load('pkl/nn_model.pkl')\n",
    "\n",
    "# Predict\n",
    "log_reg_preds = log_reg.predict(X_test_processed)\n",
    "rf_preds = rf.predict(X_test_processed)\n",
    "nn_preds = nn.predict(X_test_processed)\n",
    "\n",
    "# Evaluate\n",
    "def evaluate_model(name, y_true, y_pred):\n",
    "    return {\n",
    "        'Model': name,\n",
    "        'Accuracy': accuracy_score(y_true, y_pred),\n",
    "        'Precision': precision_score(y_true, y_pred, average='weighted', zero_division=0),\n",
    "        'Recall': recall_score(y_true, y_pred, average='weighted', zero_division=0),\n",
    "        'F1 Score': f1_score(y_true, y_pred, average='weighted', zero_division=0)\n",
    "    }\n",
    "\n",
    "results = [\n",
    "    evaluate_model(\"Logistic Regression\", y_test, log_reg_preds),\n",
    "    evaluate_model(\"Random Forest\", y_test, rf_preds),\n",
    "    evaluate_model(\"Neural Network\", y_test, nn_preds)\n",
    "]\n",
    "\n",
    "# Show results\n",
    "import pandas as pd\n",
    "df_results = pd.DataFrame(results)\n",
    "print(df_results)"
   ]
  }
 ],
 "metadata": {
  "language_info": {
   "name": "python"
  }
 },
 "nbformat": 4,
 "nbformat_minor": 5
}
