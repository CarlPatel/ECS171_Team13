{
 "cells": [
  {
   "cell_type": "code",
   "execution_count": 10,
   "id": "ac693cb2",
   "metadata": {},
   "outputs": [],
   "source": [
    "import pandas as pd\n",
    "import numpy as np\n",
    "import joblib\n",
    "from sklearn.model_selection import train_test_split, GridSearchCV\n",
    "from sklearn.preprocessing import StandardScaler, OneHotEncoder\n",
    "from sklearn.linear_model import LogisticRegression\n",
    "from sklearn.metrics import classification_report, accuracy_score"
   ]
  },
  {
   "cell_type": "code",
   "execution_count": 2,
   "id": "fa37d10a",
   "metadata": {},
   "outputs": [],
   "source": [
    "# Step 1: Load and clean data\n",
    "from ucimlrepo import fetch_ucirepo\n",
    "adult = fetch_ucirepo(id=2)\n",
    "df = pd.concat([adult.data.features, adult.data.targets], axis=1)\n",
    "\n",
    "df['income'] = df['income'].str.strip().str.replace('.', '', regex=False)\n",
    "df.replace('?', np.nan, inplace=True)\n",
    "df.dropna(inplace=True)\n",
    "\n",
    "# Step 2: Split features and target\n",
    "selected_features = [\n",
    "    'age', 'capital-gain', 'capital-loss', 'hours-per-week', 'education-num',\n",
    "    'workclass', 'marital-status', 'occupation', 'relationship', 'sex'\n",
    "]\n",
    "X = df[selected_features]\n",
    "y = df['income']"
   ]
  },
  {
   "cell_type": "code",
   "execution_count": 4,
   "id": "fdd2b07b",
   "metadata": {},
   "outputs": [],
   "source": [
    "# Step 3: Separate numeric and categorical columns\n",
    "num_cols = X.select_dtypes(include=['int64', 'float64']).columns.tolist()\n",
    "cat_cols = X.select_dtypes(include=['object']).columns.tolist()\n",
    "\n",
    "# Step 4: Preprocess numeric columns\n",
    "scaler = StandardScaler()\n",
    "X_num = scaler.fit_transform(X[num_cols])\n",
    "\n",
    "# Step 5: Preprocess categorical columns\n",
    "encoder = OneHotEncoder(drop='first', handle_unknown='ignore', sparse_output=False)\n",
    "X_cat = encoder.fit_transform(X[cat_cols])\n",
    "\n",
    "# Step 6: Combine numeric and categorical data\n",
    "X_processed = np.hstack((X_num, X_cat))"
   ]
  },
  {
   "cell_type": "code",
   "execution_count": 12,
   "id": "6f8cad8f",
   "metadata": {},
   "outputs": [
    {
     "name": "stdout",
     "output_type": "stream",
     "text": [
      "Fitting 3 folds for each of 32 candidates, totalling 96 fits\n",
      "[CV] END C=0.01, class_weight=None, penalty=l1, solver=liblinear; total time=   0.1s\n",
      "[CV] END C=0.01, class_weight=None, penalty=l2, solver=liblinear; total time=   0.1s\n",
      "[CV] END C=0.01, class_weight=None, penalty=l1, solver=liblinear; total time=   0.1s\n",
      "[CV] END C=0.01, class_weight=None, penalty=l1, solver=liblinear; total time=   0.1s\n",
      "[CV] END C=0.01, class_weight=None, penalty=l2, solver=liblinear; total time=   0.1s\n",
      "[CV] END C=0.01, class_weight=None, penalty=l2, solver=liblinear; total time=   0.1s\n",
      "[CV] END .C=0.01, class_weight=None, penalty=l1, solver=saga; total time=   0.2s\n",
      "[CV] END .C=0.01, class_weight=None, penalty=l1, solver=saga; total time=   0.2s\n",
      "[CV] END .C=0.01, class_weight=None, penalty=l1, solver=saga; total time=   0.2s\n",
      "[CV] END C=0.01, class_weight=balanced, penalty=l1, solver=liblinear; total time=   0.1s\n",
      "[CV] END C=0.01, class_weight=balanced, penalty=l1, solver=liblinear; total time=   0.1s\n",
      "[CV] END C=0.01, class_weight=balanced, penalty=l1, solver=liblinear; total time=   0.1s\n",
      "[CV] END .C=0.01, class_weight=None, penalty=l2, solver=saga; total time=   0.2s\n",
      "[CV] END .C=0.01, class_weight=None, penalty=l2, solver=saga; total time=   0.2s\n",
      "[CV] END .C=0.01, class_weight=None, penalty=l2, solver=saga; total time=   0.2s\n",
      "[CV] END C=0.01, class_weight=balanced, penalty=l2, solver=liblinear; total time=   0.1s\n",
      "[CV] END C=0.01, class_weight=balanced, penalty=l2, solver=liblinear; total time=   0.1s\n",
      "[CV] END C=0.01, class_weight=balanced, penalty=l2, solver=liblinear; total time=   0.1s\n",
      "[CV] END C=0.01, class_weight=balanced, penalty=l1, solver=saga; total time=   0.2s\n",
      "[CV] END C=0.1, class_weight=None, penalty=l2, solver=liblinear; total time=   0.1s\n",
      "[CV] END C=0.1, class_weight=None, penalty=l2, solver=liblinear; total time=   0.1s\n",
      "[CV] END C=0.01, class_weight=balanced, penalty=l1, solver=saga; total time=   0.2s\n",
      "[CV] END C=0.01, class_weight=balanced, penalty=l1, solver=saga; total time=   0.3s\n",
      "[CV] END C=0.01, class_weight=balanced, penalty=l2, solver=saga; total time=   0.3s\n",
      "[CV] END C=0.1, class_weight=None, penalty=l2, solver=liblinear; total time=   0.1s\n",
      "[CV] END C=0.01, class_weight=balanced, penalty=l2, solver=saga; total time=   0.3s\n",
      "[CV] END C=0.1, class_weight=None, penalty=l1, solver=liblinear; total time=   0.3s\n",
      "[CV] END C=0.1, class_weight=None, penalty=l1, solver=liblinear; total time=   0.4s\n",
      "[CV] END C=0.1, class_weight=balanced, penalty=l2, solver=liblinear; total time=   0.1s\n",
      "[CV] END C=0.1, class_weight=balanced, penalty=l1, solver=liblinear; total time=   0.3s\n",
      "[CV] END C=0.01, class_weight=balanced, penalty=l2, solver=saga; total time=   0.2s\n",
      "[CV] END C=0.1, class_weight=balanced, penalty=l2, solver=liblinear; total time=   0.1s\n",
      "[CV] END C=0.1, class_weight=balanced, penalty=l1, solver=liblinear; total time=   0.3s\n",
      "[CV] END ..C=0.1, class_weight=None, penalty=l1, solver=saga; total time=   0.5s\n",
      "[CV] END C=0.1, class_weight=balanced, penalty=l2, solver=liblinear; total time=   0.1s\n",
      "[CV] END C=0.1, class_weight=balanced, penalty=l1, solver=saga; total time=   0.4s\n",
      "[CV] END C=0.1, class_weight=None, penalty=l1, solver=liblinear; total time=   0.4s\n",
      "[CV] END C=0.1, class_weight=balanced, penalty=l1, solver=liblinear; total time=   0.3s\n",
      "[CV] END ..C=0.1, class_weight=None, penalty=l2, solver=saga; total time=   0.8s\n",
      "[CV] END ..C=0.1, class_weight=None, penalty=l1, solver=saga; total time=   0.5s\n",
      "[CV] END ..C=0.1, class_weight=None, penalty=l2, solver=saga; total time=   0.8s\n",
      "[CV] END C=1, class_weight=None, penalty=l2, solver=liblinear; total time=   0.1s\n",
      "[CV] END C=0.1, class_weight=balanced, penalty=l1, solver=saga; total time=   0.5s\n",
      "[CV] END ..C=0.1, class_weight=None, penalty=l1, solver=saga; total time=   0.6s\n",
      "[CV] END C=1, class_weight=None, penalty=l2, solver=liblinear; total time=   0.1s\n",
      "[CV] END C=1, class_weight=None, penalty=l2, solver=liblinear; total time=   0.1s\n",
      "[CV] END C=0.1, class_weight=balanced, penalty=l2, solver=saga; total time=   0.7s\n",
      "[CV] END C=0.1, class_weight=balanced, penalty=l2, solver=saga; total time=   0.7s\n",
      "[CV] END ..C=0.1, class_weight=None, penalty=l2, solver=saga; total time=   0.7s\n",
      "[CV] END C=1, class_weight=None, penalty=l1, solver=liblinear; total time=   0.8s\n",
      "[CV] END C=1, class_weight=None, penalty=l1, solver=liblinear; total time=   0.9s\n"
     ]
    },
    {
     "name": "stderr",
     "output_type": "stream",
     "text": [
      "/Users/Carl/Storage/College/3rd_Year/Spring/ECS_171/.venv/lib/python3.11/site-packages/sklearn/linear_model/_sag.py:350: ConvergenceWarning: The max_iter was reached which means the coef_ did not converge\n",
      "  warnings.warn(\n"
     ]
    },
    {
     "name": "stdout",
     "output_type": "stream",
     "text": [
      "[CV] END C=0.1, class_weight=balanced, penalty=l2, solver=saga; total time=   0.6s\n",
      "[CV] END C=0.1, class_weight=balanced, penalty=l1, solver=saga; total time=   1.3s\n",
      "[CV] END C=1, class_weight=balanced, penalty=l2, solver=liblinear; total time=   0.1s\n",
      "[CV] END C=1, class_weight=balanced, penalty=l1, solver=liblinear; total time=   0.7s\n",
      "[CV] END C=1, class_weight=balanced, penalty=l2, solver=liblinear; total time=   0.1s\n",
      "[CV] END C=1, class_weight=balanced, penalty=l2, solver=liblinear; total time=   0.1s\n",
      "[CV] END ....C=1, class_weight=None, penalty=l1, solver=saga; total time=   1.2s\n",
      "[CV] END ....C=1, class_weight=None, penalty=l2, solver=saga; total time=   1.0s\n",
      "[CV] END C=1, class_weight=balanced, penalty=l1, solver=liblinear; total time=   0.8s\n"
     ]
    },
    {
     "name": "stderr",
     "output_type": "stream",
     "text": [
      "/Users/Carl/Storage/College/3rd_Year/Spring/ECS_171/.venv/lib/python3.11/site-packages/sklearn/linear_model/_sag.py:350: ConvergenceWarning: The max_iter was reached which means the coef_ did not converge\n",
      "  warnings.warn(\n",
      "/Users/Carl/Storage/College/3rd_Year/Spring/ECS_171/.venv/lib/python3.11/site-packages/sklearn/linear_model/_sag.py:350: ConvergenceWarning: The max_iter was reached which means the coef_ did not converge\n",
      "  warnings.warn(\n",
      "/Users/Carl/Storage/College/3rd_Year/Spring/ECS_171/.venv/lib/python3.11/site-packages/sklearn/linear_model/_sag.py:350: ConvergenceWarning: The max_iter was reached which means the coef_ did not converge\n",
      "  warnings.warn(\n"
     ]
    },
    {
     "name": "stdout",
     "output_type": "stream",
     "text": [
      "[CV] END ....C=1, class_weight=None, penalty=l2, solver=saga; total time=   1.1s\n",
      "[CV] END C=1, class_weight=None, penalty=l1, solver=liblinear; total time=   0.8s\n"
     ]
    },
    {
     "name": "stderr",
     "output_type": "stream",
     "text": [
      "/Users/Carl/Storage/College/3rd_Year/Spring/ECS_171/.venv/lib/python3.11/site-packages/sklearn/linear_model/_sag.py:350: ConvergenceWarning: The max_iter was reached which means the coef_ did not converge\n",
      "  warnings.warn(\n",
      "/Users/Carl/Storage/College/3rd_Year/Spring/ECS_171/.venv/lib/python3.11/site-packages/sklearn/linear_model/_sag.py:350: ConvergenceWarning: The max_iter was reached which means the coef_ did not converge\n",
      "  warnings.warn(\n"
     ]
    },
    {
     "name": "stdout",
     "output_type": "stream",
     "text": [
      "[CV] END C=1, class_weight=balanced, penalty=l1, solver=saga; total time=   1.3s\n",
      "[CV] END C=1, class_weight=balanced, penalty=l1, solver=liblinear; total time=   0.9s\n",
      "[CV] END ....C=1, class_weight=None, penalty=l1, solver=saga; total time=   1.2s\n",
      "[CV] END C=10, class_weight=None, penalty=l2, solver=liblinear; total time=   0.2s\n",
      "[CV] END C=10, class_weight=None, penalty=l2, solver=liblinear; total time=   0.1s\n",
      "[CV] END ....C=1, class_weight=None, penalty=l2, solver=saga; total time=   1.1s\n",
      "[CV] END C=1, class_weight=balanced, penalty=l2, solver=saga; total time=   1.3s\n",
      "[CV] END C=10, class_weight=None, penalty=l2, solver=liblinear; total time=   0.1s\n",
      "[CV] END C=1, class_weight=balanced, penalty=l2, solver=saga; total time=   1.2s\n",
      "[CV] END C=10, class_weight=None, penalty=l1, solver=liblinear; total time=   1.0s\n"
     ]
    },
    {
     "name": "stderr",
     "output_type": "stream",
     "text": [
      "/Users/Carl/Storage/College/3rd_Year/Spring/ECS_171/.venv/lib/python3.11/site-packages/sklearn/linear_model/_sag.py:350: ConvergenceWarning: The max_iter was reached which means the coef_ did not converge\n",
      "  warnings.warn(\n",
      "/Users/Carl/Storage/College/3rd_Year/Spring/ECS_171/.venv/lib/python3.11/site-packages/sklearn/linear_model/_sag.py:350: ConvergenceWarning: The max_iter was reached which means the coef_ did not converge\n",
      "  warnings.warn(\n",
      "/Users/Carl/Storage/College/3rd_Year/Spring/ECS_171/.venv/lib/python3.11/site-packages/sklearn/linear_model/_sag.py:350: ConvergenceWarning: The max_iter was reached which means the coef_ did not converge\n",
      "  warnings.warn(\n",
      "/Users/Carl/Storage/College/3rd_Year/Spring/ECS_171/.venv/lib/python3.11/site-packages/sklearn/linear_model/_sag.py:350: ConvergenceWarning: The max_iter was reached which means the coef_ did not converge\n",
      "  warnings.warn(\n"
     ]
    },
    {
     "name": "stdout",
     "output_type": "stream",
     "text": [
      "[CV] END ....C=1, class_weight=None, penalty=l1, solver=saga; total time=   1.2s\n",
      "[CV] END C=10, class_weight=None, penalty=l1, solver=liblinear; total time=   0.9s\n",
      "[CV] END C=1, class_weight=balanced, penalty=l1, solver=saga; total time=   1.3s\n"
     ]
    },
    {
     "name": "stderr",
     "output_type": "stream",
     "text": [
      "/Users/Carl/Storage/College/3rd_Year/Spring/ECS_171/.venv/lib/python3.11/site-packages/sklearn/linear_model/_sag.py:350: ConvergenceWarning: The max_iter was reached which means the coef_ did not converge\n",
      "  warnings.warn(\n",
      "/Users/Carl/Storage/College/3rd_Year/Spring/ECS_171/.venv/lib/python3.11/site-packages/sklearn/linear_model/_sag.py:350: ConvergenceWarning: The max_iter was reached which means the coef_ did not converge\n",
      "  warnings.warn(\n",
      "/Users/Carl/Storage/College/3rd_Year/Spring/ECS_171/.venv/lib/python3.11/site-packages/sklearn/linear_model/_sag.py:350: ConvergenceWarning: The max_iter was reached which means the coef_ did not converge\n",
      "  warnings.warn(\n",
      "/Users/Carl/Storage/College/3rd_Year/Spring/ECS_171/.venv/lib/python3.11/site-packages/sklearn/linear_model/_sag.py:350: ConvergenceWarning: The max_iter was reached which means the coef_ did not converge\n",
      "  warnings.warn(\n",
      "/Users/Carl/Storage/College/3rd_Year/Spring/ECS_171/.venv/lib/python3.11/site-packages/sklearn/linear_model/_sag.py:350: ConvergenceWarning: The max_iter was reached which means the coef_ did not converge\n",
      "  warnings.warn(\n"
     ]
    },
    {
     "name": "stdout",
     "output_type": "stream",
     "text": [
      "[CV] END C=1, class_weight=balanced, penalty=l1, solver=saga; total time=   1.4s\n",
      "[CV] END C=10, class_weight=balanced, penalty=l1, solver=liblinear; total time=   0.9s\n",
      "[CV] END ...C=10, class_weight=None, penalty=l2, solver=saga; total time=   1.0s\n",
      "[CV] END ...C=10, class_weight=None, penalty=l1, solver=saga; total time=   1.5s\n",
      "[CV] END C=10, class_weight=balanced, penalty=l1, solver=liblinear; total time=   0.9s\n",
      "[CV] END ...C=10, class_weight=None, penalty=l2, solver=saga; total time=   1.1s\n"
     ]
    },
    {
     "name": "stderr",
     "output_type": "stream",
     "text": [
      "/Users/Carl/Storage/College/3rd_Year/Spring/ECS_171/.venv/lib/python3.11/site-packages/sklearn/linear_model/_sag.py:350: ConvergenceWarning: The max_iter was reached which means the coef_ did not converge\n",
      "  warnings.warn(\n",
      "/Users/Carl/Storage/College/3rd_Year/Spring/ECS_171/.venv/lib/python3.11/site-packages/sklearn/linear_model/_sag.py:350: ConvergenceWarning: The max_iter was reached which means the coef_ did not converge\n",
      "  warnings.warn(\n"
     ]
    },
    {
     "name": "stdout",
     "output_type": "stream",
     "text": [
      "[CV] END C=1, class_weight=balanced, penalty=l2, solver=saga; total time=   1.1s\n",
      "[CV] END C=10, class_weight=None, penalty=l1, solver=liblinear; total time=   1.1s\n",
      "[CV] END ...C=10, class_weight=None, penalty=l2, solver=saga; total time=   1.1s\n",
      "[CV] END C=10, class_weight=balanced, penalty=l2, solver=liblinear; total time=   0.2s\n",
      "[CV] END C=10, class_weight=balanced, penalty=l2, solver=liblinear; total time=   0.1s\n",
      "[CV] END C=10, class_weight=balanced, penalty=l2, solver=liblinear; total time=   0.1s\n"
     ]
    },
    {
     "name": "stderr",
     "output_type": "stream",
     "text": [
      "/Users/Carl/Storage/College/3rd_Year/Spring/ECS_171/.venv/lib/python3.11/site-packages/sklearn/linear_model/_sag.py:350: ConvergenceWarning: The max_iter was reached which means the coef_ did not converge\n",
      "  warnings.warn(\n"
     ]
    },
    {
     "name": "stdout",
     "output_type": "stream",
     "text": [
      "[CV] END ...C=10, class_weight=None, penalty=l1, solver=saga; total time=   1.4s\n",
      "[CV] END C=10, class_weight=balanced, penalty=l1, solver=liblinear; total time=   0.9s\n"
     ]
    },
    {
     "name": "stderr",
     "output_type": "stream",
     "text": [
      "/Users/Carl/Storage/College/3rd_Year/Spring/ECS_171/.venv/lib/python3.11/site-packages/sklearn/linear_model/_sag.py:350: ConvergenceWarning: The max_iter was reached which means the coef_ did not converge\n",
      "  warnings.warn(\n",
      "/Users/Carl/Storage/College/3rd_Year/Spring/ECS_171/.venv/lib/python3.11/site-packages/sklearn/linear_model/_sag.py:350: ConvergenceWarning: The max_iter was reached which means the coef_ did not converge\n",
      "  warnings.warn(\n",
      "/Users/Carl/Storage/College/3rd_Year/Spring/ECS_171/.venv/lib/python3.11/site-packages/sklearn/linear_model/_sag.py:350: ConvergenceWarning: The max_iter was reached which means the coef_ did not converge\n",
      "  warnings.warn(\n",
      "/Users/Carl/Storage/College/3rd_Year/Spring/ECS_171/.venv/lib/python3.11/site-packages/sklearn/linear_model/_sag.py:350: ConvergenceWarning: The max_iter was reached which means the coef_ did not converge\n",
      "  warnings.warn(\n",
      "/Users/Carl/Storage/College/3rd_Year/Spring/ECS_171/.venv/lib/python3.11/site-packages/sklearn/linear_model/_sag.py:350: ConvergenceWarning: The max_iter was reached which means the coef_ did not converge\n",
      "  warnings.warn(\n",
      "/Users/Carl/Storage/College/3rd_Year/Spring/ECS_171/.venv/lib/python3.11/site-packages/sklearn/linear_model/_sag.py:350: ConvergenceWarning: The max_iter was reached which means the coef_ did not converge\n",
      "  warnings.warn(\n",
      "/Users/Carl/Storage/College/3rd_Year/Spring/ECS_171/.venv/lib/python3.11/site-packages/sklearn/linear_model/_sag.py:350: ConvergenceWarning: The max_iter was reached which means the coef_ did not converge\n",
      "  warnings.warn(\n"
     ]
    },
    {
     "name": "stdout",
     "output_type": "stream",
     "text": [
      "[CV] END C=10, class_weight=balanced, penalty=l1, solver=saga; total time=   1.1s\n",
      "[CV] END C=10, class_weight=balanced, penalty=l2, solver=saga; total time=   1.0s\n",
      "[CV] END C=10, class_weight=balanced, penalty=l1, solver=saga; total time=   1.2s\n",
      "[CV] END C=10, class_weight=balanced, penalty=l2, solver=saga; total time=   1.0s\n",
      "[CV] END ...C=10, class_weight=None, penalty=l1, solver=saga; total time=   1.2s\n",
      "[CV] END C=10, class_weight=balanced, penalty=l2, solver=saga; total time=   1.0s\n",
      "[CV] END C=10, class_weight=balanced, penalty=l1, solver=saga; total time=   1.2s\n",
      "Best Parameters: {'C': 0.1, 'class_weight': None, 'penalty': 'l2', 'solver': 'liblinear'}\n",
      "Test Accuracy: 0.8425649530127142\n",
      "              precision    recall  f1-score   support\n",
      "\n",
      "       <=50K       0.87      0.93      0.90      6803\n",
      "        >50K       0.73      0.58      0.65      2242\n",
      "\n",
      "    accuracy                           0.84      9045\n",
      "   macro avg       0.80      0.76      0.77      9045\n",
      "weighted avg       0.84      0.84      0.84      9045\n",
      "\n"
     ]
    }
   ],
   "source": [
    "# Step 7: Train-test split\n",
    "X_train, X_test, y_train, y_test = train_test_split(X_processed, y, test_size=0.2, stratify=y, random_state=42)\n",
    "\n",
    "# Step 8: Logistic Regression with basic hyperparameter tuning\n",
    "param_grid = {\n",
    "    'penalty': ['l1', 'l2'],\n",
    "    'C': [0.01, 0.1, 1, 10],\n",
    "    'solver': ['liblinear', 'saga'],\n",
    "    'class_weight': [None, 'balanced']\n",
    "}\n",
    "\n",
    "log_reg = LogisticRegression(random_state=42)\n",
    "grid_search = GridSearchCV(log_reg, param_grid, cv=3, scoring='accuracy', verbose=2, n_jobs=-1)\n",
    "grid_search.fit(X_train, y_train)\n",
    "\n",
    "# Step 9: Evaluate best model\n",
    "best_log_reg = grid_search.best_estimator_\n",
    "y_pred = best_log_reg.predict(X_test)\n",
    "\n",
    "print(\"Best Parameters:\", grid_search.best_params_)\n",
    "print(\"Test Accuracy:\", accuracy_score(y_test, y_pred))\n",
    "print(classification_report(y_test, y_pred))"
   ]
  },
  {
   "cell_type": "code",
   "execution_count": null,
   "id": "3aa807cd",
   "metadata": {},
   "outputs": [
    {
     "data": {
      "text/plain": [
       "['pkl/encoder.pkl']"
      ]
     },
     "execution_count": 13,
     "metadata": {},
     "output_type": "execute_result"
    }
   ],
   "source": [
    "joblib.dump(best_log_reg, 'pkl/log_reg_model.pkl')\n",
    "joblib.dump(scaler, 'pkl/scaler.pkl')\n",
    "joblib.dump(encoder, 'pkl/encoder.pkl')"
   ]
  }
 ],
 "metadata": {
  "kernelspec": {
   "display_name": ".venv",
   "language": "python",
   "name": "python3"
  },
  "language_info": {
   "codemirror_mode": {
    "name": "ipython",
    "version": 3
   },
   "file_extension": ".py",
   "mimetype": "text/x-python",
   "name": "python",
   "nbconvert_exporter": "python",
   "pygments_lexer": "ipython3",
   "version": "3.11.4"
  }
 },
 "nbformat": 4,
 "nbformat_minor": 5
}
