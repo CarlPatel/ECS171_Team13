{
  "nbformat": 4,
  "nbformat_minor": 0,
  "metadata": {
    "colab": {
      "provenance": []
    },
    "kernelspec": {
      "name": "python3",
      "display_name": "Python 3"
    },
    "language_info": {
      "name": "python"
    }
  },
  "cells": [
    {
      "cell_type": "markdown",
      "source": [
        "All the imports and libraries used below"
      ],
      "metadata": {
        "id": "xqw8-BnjrYII"
      }
    },
    {
      "cell_type": "code",
      "execution_count": 33,
      "metadata": {
        "id": "UGIIat3KrMJg"
      },
      "outputs": [],
      "source": [
        "# UCI ML repo imports\n",
        "from ucimlrepo import fetch_ucirepo\n",
        "\n",
        "# sk-learn imports\n",
        "from sklearn.datasets import load_breast_cancer\n",
        "from sklearn.model_selection import train_test_split\n",
        "from sklearn.preprocessing import MinMaxScaler, StandardScaler\n",
        "from sklearn.linear_model import LogisticRegression, Perceptron\n",
        "from sklearn.metrics import accuracy_score\n",
        "from sklearn.model_selection import StratifiedKFold, cross_val_score\n",
        "from sklearn.pipeline import Pipeline\n",
        "\n",
        "# Pandas and Numpy\n",
        "import pandas as pd\n",
        "import numpy as np"
      ]
    },
    {
      "cell_type": "markdown",
      "source": [
        "Preprocessing Data Section"
      ],
      "metadata": {
        "id": "I_4I_2Pwrcar"
      }
    },
    {
      "cell_type": "code",
      "source": [
        "# Preprocessing Data\n",
        "\n",
        "adult = fetch_ucirepo(id=2)\n",
        "\n",
        "X = adult.data['features'] #imports the features as pd dataframes\n",
        "y = adult.data['targets'] # imports the targets as pd dataframes\n",
        "                                      # 0     1         2      3             4               5              6            7           8    9     10              11            12               13\n",
        "# print(X.features.head()) # Features: age, workclass, fnlwgt, education, education-num, marital-status, occupation, relationship, race, sex, capital-gain, capital-loss, hours-per-week, native-country\n",
        "# print(y.features.head()) # does the person make more than $50k per year\n",
        "# print(X.dtypes) # Assess the data types\n",
        "\n",
        "categorical_cols = X.select_dtypes(include='object').columns\n",
        "\n",
        "# Viewing the Data Set\n",
        "# print(categorical_cols)\n",
        "\n",
        "# for col in categorical_cols: # shows the unique values in each column\n",
        "#     print(f\"Column: {col}\") # column name\n",
        "#     print(X[col].unique()) #prints unique values in the column\n",
        "#     print(\"-\" * 40) # seperator\n",
        "\n",
        "for col in categorical_cols:\n",
        "  # Clean the Data\n",
        "  X.loc[:, col] = X[col].replace('?', np.nan) # Replace '?' with NaN using .loc\n",
        "  X.loc[:, col] = X[col].fillna(X[col].mode()[0]) # Fill missing values with mode using .loc\n",
        "  y = y.loc[X.index]  # Ensure target matches\n",
        "\n",
        "X_encoded = pd.get_dummies(X, columns=categorical_cols) # encodes the categorical columns\n",
        "#print(X_encoded)\n",
        "# print(X_encoded.dtypes)\n",
        "\n",
        "scale = StandardScaler() # use normalization to better maintain outliers, which we care about in classification\n",
        "X_scaled = scale.fit_transform(X_encoded) # scales the data\n",
        "\n",
        "# Select 3 Features\n",
        "age_class_education = X_scaled[:, [0, 4, 5, 6, 7, 9, 10, 12 ]] # selects the features of age class and education"
      ],
      "metadata": {
        "id": "fB-Co0iBrDfE"
      },
      "execution_count": 43,
      "outputs": []
    },
    {
      "cell_type": "markdown",
      "source": [
        "Using Logistic Regression to Train the Initial Models"
      ],
      "metadata": {
        "id": "5FffjWlYrmX5"
      }
    },
    {
      "cell_type": "code",
      "source": [
        "# Initial Model Training Using 3 Variables\n",
        "\n",
        "# All Features\n",
        "X_train, X_test, y_train, y_test = train_test_split(X_scaled, y, test_size=0.2, random_state=42)\n",
        "logistic_model = LogisticRegression().fit(X_train, y_train) # calls logistic regression model on X_train\n",
        "y_pred = logistic_model.predict(X_test)\n",
        "\n",
        "# 3 Select Features\n",
        "X_train_ace, X_test_ace, y_train_ace, y_test_ace = train_test_split(age_class_education, y, test_size=0.2, random_state=42)\n",
        "\n",
        "logistic_model_ace = LogisticRegression().fit(X_train_ace, y_train_ace) # calls logistic regression model on X_train_ace\n",
        "y_pred_ace = logistic_model_ace.predict(X_test_ace)\n",
        "\n",
        "acc = accuracy_score(y_test, y_pred) # calculates the accuracy of the whole model\n",
        "acc_ace = accuracy_score(y_test_ace, y_pred_ace) # calculates the accuracy of the 3 feature models\n",
        "\n",
        "\n",
        "print(f\"Accuracy for all features: {acc:.4f}\")\n",
        "print(f\"Accuracy for age, class, and education: {acc_ace:.4f}\")"
      ],
      "metadata": {
        "colab": {
          "base_uri": "https://localhost:8080/"
        },
        "id": "hTLw9vBAq0H7",
        "outputId": "f3475ab5-e1c9-463c-e0e9-128a53262e6d"
      },
      "execution_count": 44,
      "outputs": [
        {
          "output_type": "stream",
          "name": "stderr",
          "text": [
            "/usr/local/lib/python3.11/dist-packages/sklearn/utils/validation.py:1408: DataConversionWarning: A column-vector y was passed when a 1d array was expected. Please change the shape of y to (n_samples, ), for example using ravel().\n",
            "  y = column_or_1d(y, warn=True)\n",
            "/usr/local/lib/python3.11/dist-packages/sklearn/utils/validation.py:1408: DataConversionWarning: A column-vector y was passed when a 1d array was expected. Please change the shape of y to (n_samples, ), for example using ravel().\n",
            "  y = column_or_1d(y, warn=True)\n"
          ]
        },
        {
          "output_type": "stream",
          "name": "stdout",
          "text": [
            "Accuracy for all features: 0.5645\n",
            "Accuracy for age, class, and education: 0.5104\n"
          ]
        }
      ]
    },
    {
      "cell_type": "markdown",
      "source": [
        "Using K-Fold to check Accuracy of Our Model"
      ],
      "metadata": {
        "id": "ivQ9W6SHrqoH"
      }
    },
    {
      "cell_type": "code",
      "source": [
        "# Training Using K-Fold\n",
        "\n",
        "kfold = StratifiedKFold(n_splits=5, shuffle=True, random_state=42)\n",
        "\n",
        "# All Features\n",
        "pipeline = Pipeline([\n",
        "    ('scale', StandardScaler()),\n",
        "    ('clf', LogisticRegression(max_iter=1000))\n",
        "])\n",
        "\n",
        "# Evaluate using cross_val_score\n",
        "scores = cross_val_score(pipeline, X_encoded, y, cv=kfold, scoring='accuracy')\n",
        "scores_ace = cross_val_score(pipeline, age_class_education, y, cv=kfold, scoring='accuracy')\n",
        "\n",
        "# Report results\n",
        "print(f\"\\nMean accuracy across folds: {scores.mean():.4f}\")\n",
        "print(f\"Fold scores: {scores}\")\n",
        "\n",
        "print(f\"\\nMean accuracy across folds: {scores_ace.mean():.4f}\")\n",
        "print(f\"Fold scores: {scores_ace}\")"
      ],
      "metadata": {
        "colab": {
          "base_uri": "https://localhost:8080/"
        },
        "id": "Fd3t7QJurOAR",
        "outputId": "dcb6ada1-4a28-4689-a09e-befc45b27ae0"
      },
      "execution_count": 47,
      "outputs": [
        {
          "output_type": "stream",
          "name": "stderr",
          "text": [
            "/usr/local/lib/python3.11/dist-packages/sklearn/utils/validation.py:1408: DataConversionWarning: A column-vector y was passed when a 1d array was expected. Please change the shape of y to (n_samples, ), for example using ravel().\n",
            "  y = column_or_1d(y, warn=True)\n",
            "/usr/local/lib/python3.11/dist-packages/sklearn/utils/validation.py:1408: DataConversionWarning: A column-vector y was passed when a 1d array was expected. Please change the shape of y to (n_samples, ), for example using ravel().\n",
            "  y = column_or_1d(y, warn=True)\n",
            "/usr/local/lib/python3.11/dist-packages/sklearn/utils/validation.py:1408: DataConversionWarning: A column-vector y was passed when a 1d array was expected. Please change the shape of y to (n_samples, ), for example using ravel().\n",
            "  y = column_or_1d(y, warn=True)\n",
            "/usr/local/lib/python3.11/dist-packages/sklearn/utils/validation.py:1408: DataConversionWarning: A column-vector y was passed when a 1d array was expected. Please change the shape of y to (n_samples, ), for example using ravel().\n",
            "  y = column_or_1d(y, warn=True)\n",
            "/usr/local/lib/python3.11/dist-packages/sklearn/utils/validation.py:1408: DataConversionWarning: A column-vector y was passed when a 1d array was expected. Please change the shape of y to (n_samples, ), for example using ravel().\n",
            "  y = column_or_1d(y, warn=True)\n",
            "/usr/local/lib/python3.11/dist-packages/sklearn/utils/validation.py:1408: DataConversionWarning: A column-vector y was passed when a 1d array was expected. Please change the shape of y to (n_samples, ), for example using ravel().\n",
            "  y = column_or_1d(y, warn=True)\n",
            "/usr/local/lib/python3.11/dist-packages/sklearn/utils/validation.py:1408: DataConversionWarning: A column-vector y was passed when a 1d array was expected. Please change the shape of y to (n_samples, ), for example using ravel().\n",
            "  y = column_or_1d(y, warn=True)\n",
            "/usr/local/lib/python3.11/dist-packages/sklearn/utils/validation.py:1408: DataConversionWarning: A column-vector y was passed when a 1d array was expected. Please change the shape of y to (n_samples, ), for example using ravel().\n",
            "  y = column_or_1d(y, warn=True)\n",
            "/usr/local/lib/python3.11/dist-packages/sklearn/utils/validation.py:1408: DataConversionWarning: A column-vector y was passed when a 1d array was expected. Please change the shape of y to (n_samples, ), for example using ravel().\n",
            "  y = column_or_1d(y, warn=True)\n",
            "/usr/local/lib/python3.11/dist-packages/sklearn/utils/validation.py:1408: DataConversionWarning: A column-vector y was passed when a 1d array was expected. Please change the shape of y to (n_samples, ), for example using ravel().\n",
            "  y = column_or_1d(y, warn=True)\n"
          ]
        },
        {
          "output_type": "stream",
          "name": "stdout",
          "text": [
            "\n",
            "Mean accuracy across folds: 0.5670\n",
            "Fold scores: [0.56710001 0.56822602 0.56439394 0.56552007 0.56981982]\n",
            "\n",
            "Mean accuracy across folds: 0.5109\n",
            "Fold scores: [0.51161838 0.50793326 0.51269451 0.50972563 0.51238739]\n"
          ]
        }
      ]
    },
    {
      "cell_type": "markdown",
      "source": [
        "Model Testing"
      ],
      "metadata": {
        "id": "vDfL37TNrwPJ"
      }
    },
    {
      "cell_type": "code",
      "source": [
        "# Results and Analysis\n",
        "\n"
      ],
      "metadata": {
        "id": "VawY1QU1rQuf"
      },
      "execution_count": null,
      "outputs": []
    }
  ]
}