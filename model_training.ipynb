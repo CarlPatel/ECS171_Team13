{
  "nbformat": 4,
  "nbformat_minor": 0,
  "metadata": {
    "colab": {
      "provenance": []
    },
    "kernelspec": {
      "name": "python3",
      "display_name": "Python 3"
    },
    "language_info": {
      "name": "python"
    }
  },
  "cells": [
    {
      "cell_type": "markdown",
      "source": [
        "All the imports and libraries used below"
      ],
      "metadata": {
        "id": "xqw8-BnjrYII"
      }
    },
    {
      "cell_type": "code",
      "execution_count": 26,
      "metadata": {
        "id": "UGIIat3KrMJg"
      },
      "outputs": [],
      "source": [
        "# UCI ML repo imports\n",
        "from ucimlrepo import fetch_ucirepo\n",
        "\n",
        "# sk-learn imports\n",
        "from sklearn.datasets import load_breast_cancer\n",
        "from sklearn.model_selection import train_test_split\n",
        "from sklearn.preprocessing import MinMaxScaler, StandardScaler\n",
        "from sklearn.linear_model import LogisticRegression, Perceptron\n",
        "from sklearn.metrics import accuracy_score\n",
        "\n",
        "# Pandas and Numpy\n",
        "import pandas as pd\n",
        "import numpy as np"
      ]
    },
    {
      "cell_type": "markdown",
      "source": [
        "Preprocessing Data Section"
      ],
      "metadata": {
        "id": "I_4I_2Pwrcar"
      }
    },
    {
      "cell_type": "code",
      "source": [
        "# Preprocessing Data\n",
        "\n",
        "adult = fetch_ucirepo(id=2)\n",
        "\n",
        "X = adult.data['features'] #imports the features as pd dataframes\n",
        "y = adult.data['targets'] # imports the targets as pd dataframes\n",
        "\n",
        "# print(X.dtypes) # Assess the data types\n",
        "\n",
        "categorical_cols = X.select_dtypes(include='object').columns\n",
        "\n",
        "# Viewing the Data Set\n",
        "# print(categorical_cols)\n",
        "\n",
        "# for col in categorical_cols: # shows the unique values in each column\n",
        "#     print(f\"Column: {col}\") # column name\n",
        "#     print(X[col].unique()) #prints unique values in the column\n",
        "#     print(\"-\" * 40) # seperator\n",
        "\n",
        "for col in categorical_cols:\n",
        "  # Clean the Data\n",
        "  X.loc[:, col] = X[col].replace('?', np.nan) # Replace '?' with NaN using .loc\n",
        "  X.loc[:, col] = X[col].fillna(X[col].mode()[0]) # Fill missing values with mode using .loc\n",
        "  y = y.loc[X.index]  # Ensure target matches\n",
        "\n",
        "X_encoded = pd.get_dummies(X, columns=categorical_cols) # encodes the categorical columns\n",
        "#print(X_encoded)\n",
        "# print(X_encoded.dtypes)\n",
        "\n",
        "scale = StandardScaler() # use normalization to better maintain outliers, which we care about in classification\n",
        "X_scaled = scale.fit_transform(X_encoded) # scales the data\n",
        "\n",
        "age_class_education = X_scaled[:, [0, 1, 3]] # selects the features of age class and education\n",
        "relationship_race_sex = X_scaled[:, [5,8,9]] # selects the features of marital status, race and sex\n",
        "occupation_hours_country = X_scaled[:, [6,12,13]] # selects the features of occupation, hours per week and native country"
      ],
      "metadata": {
        "id": "fB-Co0iBrDfE"
      },
      "execution_count": 29,
      "outputs": []
    },
    {
      "cell_type": "markdown",
      "source": [
        "Using Logistic Regression to Train the Initial Models"
      ],
      "metadata": {
        "id": "5FffjWlYrmX5"
      }
    },
    {
      "cell_type": "code",
      "source": [
        "# Initial Model Training\n",
        "\n",
        "X_train_ace, X_test_ace, y_train_ace, y_test_ace = train_test_split(age_class_education, y, test_size=0.2, random_state=42)\n",
        "\n",
        "logistic_model_ace = LogisticRegression().fit(X_train_ace, y_train_ace) # calls logistic regression model on X_train_ace\n",
        "y_pred_ace = logistic_model_ace.predict(X_test_ace)\n",
        "\n",
        "X_train_rrs, X_test_rrs, y_train_rrs, y_test_rrs = train_test_split(relationship_race_sex, y, test_size=0.2, random_state=42)\n",
        "\n",
        "logistic_model_rrs = LogisticRegression().fit(X_train_rrs, y_train_rrs) # calls logistic regression model on X_train_rrs\n",
        "y_pred_rrs = logistic_model_rrs.predict(X_test_rrs)\n",
        "\n",
        "X_train_ohc, X_test_ohc, y_train_ohc, y_test_ohc = train_test_split(occupation_hours_country, y, test_size=0.2, random_state=42)\n",
        "\n",
        "logistic_model_ohc = LogisticRegression().fit(X_train_ohc, y_train_ohc) # calls logistic regression model on X_train_ohc\n",
        "y_pred_ohc = logistic_model_ohc.predict(X_test_ohc)\n",
        "\n",
        "acc_ace = accuracy_score(y_test_ace, y_pred_ace) # calculates the accuracy of the model\n",
        "acc_rrs = accuracy_score(y_test_rrs, y_pred_rrs)\n",
        "acc_ohc = accuracy_score(y_test_ohc, y_pred_ohc)\n",
        "\n",
        "print(\"Accuracy for age, class, and education:\", acc_ace)\n",
        "print(\"Accuracy for relationship, race, and sex:\", acc_rrs)\n",
        "print(\"Accuracy for occupation, hours per week, and native country:\", acc_ohc)\n",
        "\n",
        "# print(X.features.head()) # Features: age, workclass, fnlwgt, education, education-num, marital-status, occupation, relationship, race, sex, capital-gain, capital-loss, hours-per-week, native-country\n",
        "#print(y.features.head()) # does the person make more than $50k per year"
      ],
      "metadata": {
        "colab": {
          "base_uri": "https://localhost:8080/"
        },
        "id": "hTLw9vBAq0H7",
        "outputId": "8436f5fc-e05c-4823-d932-c1e6773d3d3c"
      },
      "execution_count": 30,
      "outputs": [
        {
          "output_type": "stream",
          "name": "stderr",
          "text": [
            "/usr/local/lib/python3.11/dist-packages/sklearn/utils/validation.py:1408: DataConversionWarning: A column-vector y was passed when a 1d array was expected. Please change the shape of y to (n_samples, ), for example using ravel().\n",
            "  y = column_or_1d(y, warn=True)\n",
            "/usr/local/lib/python3.11/dist-packages/sklearn/utils/validation.py:1408: DataConversionWarning: A column-vector y was passed when a 1d array was expected. Please change the shape of y to (n_samples, ), for example using ravel().\n",
            "  y = column_or_1d(y, warn=True)\n",
            "/usr/local/lib/python3.11/dist-packages/sklearn/utils/validation.py:1408: DataConversionWarning: A column-vector y was passed when a 1d array was expected. Please change the shape of y to (n_samples, ), for example using ravel().\n",
            "  y = column_or_1d(y, warn=True)\n"
          ]
        },
        {
          "output_type": "stream",
          "name": "stdout",
          "text": [
            "Accuracy for age, class, and education: 0.5287132766915754\n",
            "Accuracy for relationship, race, and sex: 0.5023032040126932\n",
            "Accuracy for occupation, hours per week, and native country: 0.5052717780734978\n"
          ]
        }
      ]
    },
    {
      "cell_type": "markdown",
      "source": [
        "Using Gradient Descent to Minimize the Error of Our Models"
      ],
      "metadata": {
        "id": "ivQ9W6SHrqoH"
      }
    },
    {
      "cell_type": "code",
      "source": [
        "# Training Using GD\n",
        "\n"
      ],
      "metadata": {
        "id": "Fd3t7QJurOAR"
      },
      "execution_count": null,
      "outputs": []
    },
    {
      "cell_type": "markdown",
      "source": [
        "Model Testing"
      ],
      "metadata": {
        "id": "vDfL37TNrwPJ"
      }
    },
    {
      "cell_type": "code",
      "source": [
        "# Results and Analysis\n",
        "\n"
      ],
      "metadata": {
        "id": "VawY1QU1rQuf"
      },
      "execution_count": null,
      "outputs": []
    }
  ]
}